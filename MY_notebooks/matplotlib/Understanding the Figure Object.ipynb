{
 "cells": [
  {
   "cell_type": "code",
   "execution_count": 1,
   "id": "3082843e-6690-4618-b3ed-8329fb355e68",
   "metadata": {},
   "outputs": [],
   "source": [
    "import pandas as pd\n",
    "import matplotlib.pyplot as plt"
   ]
  },
  {
   "cell_type": "code",
   "execution_count": 25,
   "id": "e0afd5c7-5a23-4756-9820-d35af7b9b4e4",
   "metadata": {},
   "outputs": [],
   "source": [
    "import numpy as np\n",
    "a = np.linspace(0,1215,10)\n",
    "b = a**7\n",
    "c=a//2"
   ]
  },
  {
   "cell_type": "markdown",
   "id": "6eba150d-60e9-4e18-82b7-b5e5c73ef4af",
   "metadata": {},
   "source": [
    "fig = plt.figure()\n",
    "#LARGE AXES :\n",
    "axes1= fig.add_axes([0,0,1,1])\n",
    "axes1.plot(a,b)\n",
    "axes1.set_xlabel('____labling_x____')\n",
    "axes1.set_ylabel('____labling_y____')\n",
    "axes1.set_xlim(0,1200)\n",
    "axes1.set_ylim(0,3.5)\n",
    "axes1.set_title('LARGE')\n",
    "#SMALL AXES :\n",
    "axes2= fig.add_axes([0.2,0.2,0.5,0.5])\n",
    "axes2.set_xlabel('____labling_x____')\n",
    "axes2.set_ylabel('____labling_y____')\n",
    "axes2.set_xlim(0,1000)\n",
    "axes2.set_ylim(0,500)\n",
    "axes2.set_title('SMALL')\n",
    "axes2.plot(a,c);"
   ]
  },
  {
   "cell_type": "code",
   "execution_count": 26,
   "id": "e2f69406-7721-4622-84a0-a067ecb18c48",
   "metadata": {},
   "outputs": [
    {
     "data": {
      "text/plain": [
       "[<matplotlib.lines.Line2D at 0x1507536e9d0>]"
      ]
     },
     "execution_count": 26,
     "metadata": {},
     "output_type": "execute_result"
    }
   ],
   "source": [
    "axes1= fig.add_axes([0,0,1,1])\n",
    "axes1.plot(a,b) \n",
    "axes1.set_xlabel('labling_x') \n",
    "axes1.set_ylabel('labling_y') \n",
    "axes1.set_xlim(0,1200) \n",
    "axes1.set_ylim(0,3.5) \n",
    "axes1.set_title('LARGE') \n",
    "#SMALL AXES : \n",
    "axes2= fig.add_axes([0.2,0.2,0.5,0.5]) \n",
    "axes2.set_xlabel('labling_x') \n",
    "axes2.set_ylabel('labling_y') \n",
    "axes2.set_xlim(0,1000) \n",
    "axes2.set_ylim(0,500) \n",
    "axes2.set_title('SMALL') \n",
    "axes2.plot(a,c)"
   ]
  },
  {
   "cell_type": "code",
   "execution_count": null,
   "id": "34c32136-e793-4769-b1aa-8e50ae4b4f9a",
   "metadata": {},
   "outputs": [],
   "source": []
  }
 ],
 "metadata": {
  "kernelspec": {
   "display_name": "Python 3 (ipykernel)",
   "language": "python",
   "name": "python3"
  },
  "language_info": {
   "codemirror_mode": {
    "name": "ipython",
    "version": 3
   },
   "file_extension": ".py",
   "mimetype": "text/x-python",
   "name": "python",
   "nbconvert_exporter": "python",
   "pygments_lexer": "ipython3",
   "version": "3.9.20"
  }
 },
 "nbformat": 4,
 "nbformat_minor": 5
}
