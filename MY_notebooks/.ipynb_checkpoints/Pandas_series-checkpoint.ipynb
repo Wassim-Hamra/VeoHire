{
 "cells": [
  {
   "cell_type": "code",
   "execution_count": 1,
   "id": "d51546c4-23f6-41f7-b4f6-db3c3d3b09e3",
   "metadata": {},
   "outputs": [],
   "source": [
    "import pandas as pd"
   ]
  },
  {
   "cell_type": "code",
   "execution_count": 2,
   "id": "8c406f2c-1ada-4a32-b7e0-bd7f6c5e703f",
   "metadata": {},
   "outputs": [],
   "source": [
    "import numpy as np"
   ]
  },
  {
   "cell_type": "code",
   "execution_count": 5,
   "id": "e943bace-9a5e-43af-8bcd-9c8b8341bef3",
   "metadata": {},
   "outputs": [],
   "source": [
    "#help(pd.Series)_____documentation"
   ]
  },
  {
   "cell_type": "code",
   "execution_count": 6,
   "id": "76608439-196d-44a3-925f-03cdca8b4908",
   "metadata": {},
   "outputs": [],
   "source": [
    "myindex=['kasserine','kebeli','gafsa']"
   ]
  },
  {
   "cell_type": "code",
   "execution_count": 8,
   "id": "d3d0074c-36e0-40db-94ce-6c946c15db38",
   "metadata": {},
   "outputs": [],
   "source": [
    "mydata = [1215,145,552]"
   ]
  },
  {
   "cell_type": "code",
   "execution_count": 14,
   "id": "e01abc74-2918-4795-a91b-3460e7771ebd",
   "metadata": {},
   "outputs": [],
   "source": [
    "myser =  pd.Series(mydata)"
   ]
  },
  {
   "cell_type": "code",
   "execution_count": 16,
   "id": "80801f99-4801-4213-adf4-e0b33b8b5a87",
   "metadata": {},
   "outputs": [
    {
     "data": {
      "text/plain": [
       "0    1215\n",
       "1     145\n",
       "2     552\n",
       "dtype: int64"
      ]
     },
     "execution_count": 16,
     "metadata": {},
     "output_type": "execute_result"
    }
   ],
   "source": [
    "myser"
   ]
  },
  {
   "cell_type": "code",
   "execution_count": 17,
   "id": "e7a9f03d-66c6-4d97-b6a5-62d783d671d7",
   "metadata": {},
   "outputs": [],
   "source": [
    "myser =  pd.Series(mydata,myindex)"
   ]
  },
  {
   "cell_type": "code",
   "execution_count": 18,
   "id": "9f0ce855-77e8-497c-b9d9-9d782c3503f1",
   "metadata": {},
   "outputs": [
    {
     "data": {
      "text/plain": [
       "kasserine    1215\n",
       "kebeli        145\n",
       "gafsa         552\n",
       "dtype: int64"
      ]
     },
     "execution_count": 18,
     "metadata": {},
     "output_type": "execute_result"
    }
   ],
   "source": [
    "myser"
   ]
  },
  {
   "cell_type": "code",
   "execution_count": 19,
   "id": "156cea7b-3c59-4e92-834f-b08d5dcbf08c",
   "metadata": {},
   "outputs": [
    {
     "name": "stderr",
     "output_type": "stream",
     "text": [
      "C:\\Users\\lenovo\\AppData\\Local\\Temp\\ipykernel_20024\\3030946548.py:1: FutureWarning: Series.__getitem__ treating keys as positions is deprecated. In a future version, integer keys will always be treated as labels (consistent with DataFrame behavior). To access a value by position, use `ser.iloc[pos]`\n",
      "  myser[0]\n"
     ]
    },
    {
     "data": {
      "text/plain": [
       "1215"
      ]
     },
     "execution_count": 19,
     "metadata": {},
     "output_type": "execute_result"
    }
   ],
   "source": [
    "myser[0]"
   ]
  },
  {
   "cell_type": "code",
   "execution_count": 21,
   "id": "d01e4888-995a-4a44-81e4-bd9967543fbd",
   "metadata": {},
   "outputs": [
    {
     "data": {
      "text/plain": [
       "1215"
      ]
     },
     "execution_count": 21,
     "metadata": {},
     "output_type": "execute_result"
    }
   ],
   "source": [
    "myser['kasserine']"
   ]
  },
  {
   "cell_type": "code",
   "execution_count": 22,
   "id": "37b9aef5-365f-4831-a076-cb3a8d141c23",
   "metadata": {},
   "outputs": [],
   "source": [
    "ages={'med ali':21,'ismail':15,'othman':25}"
   ]
  },
  {
   "cell_type": "code",
   "execution_count": 24,
   "id": "ced9bff8-58da-46bd-b78a-12ec9829324f",
   "metadata": {},
   "outputs": [],
   "source": [
    "myser = pd.Series(ages)"
   ]
  },
  {
   "cell_type": "code",
   "execution_count": 25,
   "id": "32c31262-fe50-418b-9e85-401dfbb5fa17",
   "metadata": {},
   "outputs": [
    {
     "data": {
      "text/plain": [
       "med ali    21\n",
       "ismail     15\n",
       "othman     25\n",
       "dtype: int64"
      ]
     },
     "execution_count": 25,
     "metadata": {},
     "output_type": "execute_result"
    }
   ],
   "source": [
    "myser"
   ]
  },
  {
   "cell_type": "code",
   "execution_count": 26,
   "id": "c61869a0-6340-4faa-bea8-1c3ac5c0cd5f",
   "metadata": {},
   "outputs": [],
   "source": [
    "q1 = {'Japan': 80, 'China': 450, 'India': 200, 'USA': 250}\n",
    "q2 = {'Brazil': 100,'China': 500, 'India': 210,'USA': 260}"
   ]
  },
  {
   "cell_type": "code",
   "execution_count": 27,
   "id": "08588fae-70cd-4507-8a64-61cc2e38f050",
   "metadata": {},
   "outputs": [],
   "source": [
    "series_q1= pd.Series(q1)\n",
    "series_q2= pd.Series(q2)"
   ]
  },
  {
   "cell_type": "code",
   "execution_count": 28,
   "id": "0f141252-aa3f-41e8-8c15-3c60858ef9cd",
   "metadata": {},
   "outputs": [
    {
     "data": {
      "text/plain": [
       "Japan     80\n",
       "China    450\n",
       "India    200\n",
       "USA      250\n",
       "dtype: int64"
      ]
     },
     "execution_count": 28,
     "metadata": {},
     "output_type": "execute_result"
    }
   ],
   "source": [
    "series_q1\n"
   ]
  },
  {
   "cell_type": "code",
   "execution_count": 29,
   "id": "f818163c-ca35-4c23-9615-31375dbb4b83",
   "metadata": {},
   "outputs": [
    {
     "data": {
      "text/plain": [
       "Brazil    100\n",
       "China     500\n",
       "India     210\n",
       "USA       260\n",
       "dtype: int64"
      ]
     },
     "execution_count": 29,
     "metadata": {},
     "output_type": "execute_result"
    }
   ],
   "source": [
    "series_q2"
   ]
  },
  {
   "cell_type": "code",
   "execution_count": 30,
   "id": "ef78e687-489c-4e20-aacf-56e29c474163",
   "metadata": {},
   "outputs": [
    {
     "data": {
      "text/plain": [
       "Index(['Japan', 'China', 'India', 'USA'], dtype='object')"
      ]
     },
     "execution_count": 30,
     "metadata": {},
     "output_type": "execute_result"
    }
   ],
   "source": [
    "series_q1.keys()"
   ]
  },
  {
   "cell_type": "code",
   "execution_count": 31,
   "id": "f13362c3-f577-4c10-a12d-c6f0c9cd5793",
   "metadata": {},
   "outputs": [
    {
     "data": {
      "text/plain": [
       "[2, 1, 2, 1]"
      ]
     },
     "execution_count": 31,
     "metadata": {},
     "output_type": "execute_result"
    }
   ],
   "source": [
    "[2,1] * 2"
   ]
  },
  {
   "cell_type": "code",
   "execution_count": 33,
   "id": "367da754-afe3-44e3-b197-9a193a9af92b",
   "metadata": {},
   "outputs": [
    {
     "data": {
      "text/plain": [
       "array([4, 2])"
      ]
     },
     "execution_count": 33,
     "metadata": {},
     "output_type": "execute_result"
    }
   ],
   "source": [
    "np.array([2,1]) * 2"
   ]
  },
  {
   "cell_type": "code",
   "execution_count": 34,
   "id": "c370b7ec-3ce7-4a2a-9ff3-a69f6fd4bcfd",
   "metadata": {},
   "outputs": [
    {
     "data": {
      "text/plain": [
       "Japan    160\n",
       "China    900\n",
       "India    400\n",
       "USA      500\n",
       "dtype: int64"
      ]
     },
     "execution_count": 34,
     "metadata": {},
     "output_type": "execute_result"
    }
   ],
   "source": [
    "series_q1 * 2"
   ]
  },
  {
   "cell_type": "code",
   "execution_count": 35,
   "id": "7e67386c-1b28-4b0b-8288-5ecd2691727a",
   "metadata": {},
   "outputs": [
    {
     "data": {
      "text/plain": [
       "Brazil      NaN\n",
       "China     950.0\n",
       "India     410.0\n",
       "Japan       NaN\n",
       "USA       510.0\n",
       "dtype: float64"
      ]
     },
     "execution_count": 35,
     "metadata": {},
     "output_type": "execute_result"
    }
   ],
   "source": [
    "series_q1 + series_q2"
   ]
  },
  {
   "cell_type": "code",
   "execution_count": 36,
   "id": "3c9cc2eb-79e1-4ed0-8551-04f297145dc6",
   "metadata": {},
   "outputs": [
    {
     "data": {
      "text/plain": [
       "Brazil    100.0\n",
       "China     950.0\n",
       "India     410.0\n",
       "Japan      80.0\n",
       "USA       510.0\n",
       "dtype: float64"
      ]
     },
     "execution_count": 36,
     "metadata": {},
     "output_type": "execute_result"
    }
   ],
   "source": [
    "series_q1.add(series_q2,fill_value=0)"
   ]
  },
  {
   "cell_type": "code",
   "execution_count": 37,
   "id": "b4f08ae8-16d5-4b6c-b03b-315c4d53787f",
   "metadata": {},
   "outputs": [],
   "source": [
    "first_half = series_q1.add(series_q2,fill_value=0)"
   ]
  },
  {
   "cell_type": "code",
   "execution_count": 38,
   "id": "6a64d3b4-95aa-4e28-a035-99ef461a06b0",
   "metadata": {},
   "outputs": [
    {
     "data": {
      "text/plain": [
       "Brazil    100.0\n",
       "China     950.0\n",
       "India     410.0\n",
       "Japan      80.0\n",
       "USA       510.0\n",
       "dtype: float64"
      ]
     },
     "execution_count": 38,
     "metadata": {},
     "output_type": "execute_result"
    }
   ],
   "source": [
    "first_half"
   ]
  },
  {
   "cell_type": "code",
   "execution_count": 40,
   "id": "2453a057-a63c-4f74-9c9b-3a981d669139",
   "metadata": {},
   "outputs": [
    {
     "data": {
      "text/plain": [
       "dtype('int64')"
      ]
     },
     "execution_count": 40,
     "metadata": {},
     "output_type": "execute_result"
    }
   ],
   "source": [
    "series_q1.dtype"
   ]
  },
  {
   "cell_type": "code",
   "execution_count": 41,
   "id": "692df789-6bf1-4428-859a-5dfbd9debd10",
   "metadata": {},
   "outputs": [
    {
     "data": {
      "text/plain": [
       "dtype('float64')"
      ]
     },
     "execution_count": 41,
     "metadata": {},
     "output_type": "execute_result"
    }
   ],
   "source": [
    "first_half.dtype"
   ]
  },
  {
   "cell_type": "code",
   "execution_count": null,
   "id": "5d1ea0e9-080a-4b08-a706-0101bea007a6",
   "metadata": {},
   "outputs": [],
   "source": []
  }
 ],
 "metadata": {
  "kernelspec": {
   "display_name": "Python 3 (ipykernel)",
   "language": "python",
   "name": "python3"
  },
  "language_info": {
   "codemirror_mode": {
    "name": "ipython",
    "version": 3
   },
   "file_extension": ".py",
   "mimetype": "text/x-python",
   "name": "python",
   "nbconvert_exporter": "python",
   "pygments_lexer": "ipython3",
   "version": "3.9.20"
  }
 },
 "nbformat": 4,
 "nbformat_minor": 5
}
