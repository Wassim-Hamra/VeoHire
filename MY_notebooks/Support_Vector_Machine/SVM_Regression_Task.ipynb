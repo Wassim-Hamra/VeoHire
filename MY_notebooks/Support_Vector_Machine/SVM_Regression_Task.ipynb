{
 "cells": [
  {
   "cell_type": "code",
   "execution_count": 1,
   "id": "dec44724-276d-400b-b983-80abaedb8a10",
   "metadata": {},
   "outputs": [],
   "source": [
    "import pandas as pd\n",
    "import numpy as np\n",
    "import matplotlib.pyplot as plt\n",
    "import seaborn as sns"
   ]
  },
  {
   "cell_type": "code",
   "execution_count": 2,
   "id": "f2d03abb-bf23-41d6-82ac-ee37e75795c7",
   "metadata": {},
   "outputs": [],
   "source": [
    "df = pd.read_csv(r'C:\\Users\\lenovo\\Desktop\\Notebooks\\DATA\\cement_slump.csv')"
   ]
  },
  {
   "cell_type": "code",
   "execution_count": 3,
   "id": "68586bdb-4765-46ab-b95b-ab10d85e4293",
   "metadata": {},
   "outputs": [
    {
     "data": {
      "text/html": [
       "<div>\n",
       "<style scoped>\n",
       "    .dataframe tbody tr th:only-of-type {\n",
       "        vertical-align: middle;\n",
       "    }\n",
       "\n",
       "    .dataframe tbody tr th {\n",
       "        vertical-align: top;\n",
       "    }\n",
       "\n",
       "    .dataframe thead th {\n",
       "        text-align: right;\n",
       "    }\n",
       "</style>\n",
       "<table border=\"1\" class=\"dataframe\">\n",
       "  <thead>\n",
       "    <tr style=\"text-align: right;\">\n",
       "      <th></th>\n",
       "      <th>Cement</th>\n",
       "      <th>Slag</th>\n",
       "      <th>Fly ash</th>\n",
       "      <th>Water</th>\n",
       "      <th>SP</th>\n",
       "      <th>Coarse Aggr.</th>\n",
       "      <th>Fine Aggr.</th>\n",
       "      <th>SLUMP(cm)</th>\n",
       "      <th>FLOW(cm)</th>\n",
       "      <th>Compressive Strength (28-day)(Mpa)</th>\n",
       "    </tr>\n",
       "  </thead>\n",
       "  <tbody>\n",
       "    <tr>\n",
       "      <th>0</th>\n",
       "      <td>273.0</td>\n",
       "      <td>82.0</td>\n",
       "      <td>105.0</td>\n",
       "      <td>210.0</td>\n",
       "      <td>9.0</td>\n",
       "      <td>904.0</td>\n",
       "      <td>680.0</td>\n",
       "      <td>23.0</td>\n",
       "      <td>62.0</td>\n",
       "      <td>34.99</td>\n",
       "    </tr>\n",
       "    <tr>\n",
       "      <th>1</th>\n",
       "      <td>163.0</td>\n",
       "      <td>149.0</td>\n",
       "      <td>191.0</td>\n",
       "      <td>180.0</td>\n",
       "      <td>12.0</td>\n",
       "      <td>843.0</td>\n",
       "      <td>746.0</td>\n",
       "      <td>0.0</td>\n",
       "      <td>20.0</td>\n",
       "      <td>41.14</td>\n",
       "    </tr>\n",
       "    <tr>\n",
       "      <th>2</th>\n",
       "      <td>162.0</td>\n",
       "      <td>148.0</td>\n",
       "      <td>191.0</td>\n",
       "      <td>179.0</td>\n",
       "      <td>16.0</td>\n",
       "      <td>840.0</td>\n",
       "      <td>743.0</td>\n",
       "      <td>1.0</td>\n",
       "      <td>20.0</td>\n",
       "      <td>41.81</td>\n",
       "    </tr>\n",
       "    <tr>\n",
       "      <th>3</th>\n",
       "      <td>162.0</td>\n",
       "      <td>148.0</td>\n",
       "      <td>190.0</td>\n",
       "      <td>179.0</td>\n",
       "      <td>19.0</td>\n",
       "      <td>838.0</td>\n",
       "      <td>741.0</td>\n",
       "      <td>3.0</td>\n",
       "      <td>21.5</td>\n",
       "      <td>42.08</td>\n",
       "    </tr>\n",
       "    <tr>\n",
       "      <th>4</th>\n",
       "      <td>154.0</td>\n",
       "      <td>112.0</td>\n",
       "      <td>144.0</td>\n",
       "      <td>220.0</td>\n",
       "      <td>10.0</td>\n",
       "      <td>923.0</td>\n",
       "      <td>658.0</td>\n",
       "      <td>20.0</td>\n",
       "      <td>64.0</td>\n",
       "      <td>26.82</td>\n",
       "    </tr>\n",
       "    <tr>\n",
       "      <th>...</th>\n",
       "      <td>...</td>\n",
       "      <td>...</td>\n",
       "      <td>...</td>\n",
       "      <td>...</td>\n",
       "      <td>...</td>\n",
       "      <td>...</td>\n",
       "      <td>...</td>\n",
       "      <td>...</td>\n",
       "      <td>...</td>\n",
       "      <td>...</td>\n",
       "    </tr>\n",
       "    <tr>\n",
       "      <th>98</th>\n",
       "      <td>248.3</td>\n",
       "      <td>101.0</td>\n",
       "      <td>239.1</td>\n",
       "      <td>168.9</td>\n",
       "      <td>7.7</td>\n",
       "      <td>954.2</td>\n",
       "      <td>640.6</td>\n",
       "      <td>0.0</td>\n",
       "      <td>20.0</td>\n",
       "      <td>49.97</td>\n",
       "    </tr>\n",
       "    <tr>\n",
       "      <th>99</th>\n",
       "      <td>248.0</td>\n",
       "      <td>101.0</td>\n",
       "      <td>239.9</td>\n",
       "      <td>169.1</td>\n",
       "      <td>7.7</td>\n",
       "      <td>949.9</td>\n",
       "      <td>644.1</td>\n",
       "      <td>2.0</td>\n",
       "      <td>20.0</td>\n",
       "      <td>50.23</td>\n",
       "    </tr>\n",
       "    <tr>\n",
       "      <th>100</th>\n",
       "      <td>258.8</td>\n",
       "      <td>88.0</td>\n",
       "      <td>239.6</td>\n",
       "      <td>175.3</td>\n",
       "      <td>7.6</td>\n",
       "      <td>938.9</td>\n",
       "      <td>646.0</td>\n",
       "      <td>0.0</td>\n",
       "      <td>20.0</td>\n",
       "      <td>50.50</td>\n",
       "    </tr>\n",
       "    <tr>\n",
       "      <th>101</th>\n",
       "      <td>297.1</td>\n",
       "      <td>40.9</td>\n",
       "      <td>239.9</td>\n",
       "      <td>194.0</td>\n",
       "      <td>7.5</td>\n",
       "      <td>908.9</td>\n",
       "      <td>651.8</td>\n",
       "      <td>27.5</td>\n",
       "      <td>67.0</td>\n",
       "      <td>49.17</td>\n",
       "    </tr>\n",
       "    <tr>\n",
       "      <th>102</th>\n",
       "      <td>348.7</td>\n",
       "      <td>0.1</td>\n",
       "      <td>223.1</td>\n",
       "      <td>208.5</td>\n",
       "      <td>9.6</td>\n",
       "      <td>786.2</td>\n",
       "      <td>758.1</td>\n",
       "      <td>29.0</td>\n",
       "      <td>78.0</td>\n",
       "      <td>48.70</td>\n",
       "    </tr>\n",
       "  </tbody>\n",
       "</table>\n",
       "<p>103 rows × 10 columns</p>\n",
       "</div>"
      ],
      "text/plain": [
       "     Cement   Slag  Fly ash  Water    SP  Coarse Aggr.  Fine Aggr.  SLUMP(cm)  \\\n",
       "0     273.0   82.0    105.0  210.0   9.0         904.0       680.0       23.0   \n",
       "1     163.0  149.0    191.0  180.0  12.0         843.0       746.0        0.0   \n",
       "2     162.0  148.0    191.0  179.0  16.0         840.0       743.0        1.0   \n",
       "3     162.0  148.0    190.0  179.0  19.0         838.0       741.0        3.0   \n",
       "4     154.0  112.0    144.0  220.0  10.0         923.0       658.0       20.0   \n",
       "..      ...    ...      ...    ...   ...           ...         ...        ...   \n",
       "98    248.3  101.0    239.1  168.9   7.7         954.2       640.6        0.0   \n",
       "99    248.0  101.0    239.9  169.1   7.7         949.9       644.1        2.0   \n",
       "100   258.8   88.0    239.6  175.3   7.6         938.9       646.0        0.0   \n",
       "101   297.1   40.9    239.9  194.0   7.5         908.9       651.8       27.5   \n",
       "102   348.7    0.1    223.1  208.5   9.6         786.2       758.1       29.0   \n",
       "\n",
       "     FLOW(cm)  Compressive Strength (28-day)(Mpa)  \n",
       "0        62.0                               34.99  \n",
       "1        20.0                               41.14  \n",
       "2        20.0                               41.81  \n",
       "3        21.5                               42.08  \n",
       "4        64.0                               26.82  \n",
       "..        ...                                 ...  \n",
       "98       20.0                               49.97  \n",
       "99       20.0                               50.23  \n",
       "100      20.0                               50.50  \n",
       "101      67.0                               49.17  \n",
       "102      78.0                               48.70  \n",
       "\n",
       "[103 rows x 10 columns]"
      ]
     },
     "execution_count": 3,
     "metadata": {},
     "output_type": "execute_result"
    }
   ],
   "source": [
    "df"
   ]
  },
  {
   "cell_type": "code",
   "execution_count": 4,
   "id": "a3c23d6b-b5bb-4a99-84eb-f2dfd26aaff9",
   "metadata": {},
   "outputs": [],
   "source": [
    "X = df.drop('Compressive Strength (28-day)(Mpa)',axis=1)"
   ]
  },
  {
   "cell_type": "code",
   "execution_count": 5,
   "id": "fc332699-97ad-4117-aebe-8741b4091a5d",
   "metadata": {},
   "outputs": [],
   "source": [
    "y = df['Compressive Strength (28-day)(Mpa)']"
   ]
  },
  {
   "cell_type": "code",
   "execution_count": 6,
   "id": "822de9fe-a673-404f-bc3f-85be40217e8b",
   "metadata": {},
   "outputs": [],
   "source": [
    "from sklearn.model_selection import train_test_split"
   ]
  },
  {
   "cell_type": "code",
   "execution_count": 7,
   "id": "b745f663-9558-41ce-9e64-76c7cec0c247",
   "metadata": {},
   "outputs": [],
   "source": [
    "X_train, X_test, y_train, y_test = train_test_split(X, y, test_size=0.3, random_state=101)"
   ]
  },
  {
   "cell_type": "code",
   "execution_count": 9,
   "id": "f7887d69-f253-47d3-bb81-e0390b87ffe6",
   "metadata": {},
   "outputs": [],
   "source": [
    "from sklearn.preprocessing import StandardScaler"
   ]
  },
  {
   "cell_type": "code",
   "execution_count": 10,
   "id": "2d017e15-abf1-4d97-a7ff-8c5c679f9e7d",
   "metadata": {},
   "outputs": [],
   "source": [
    "scaler = StandardScaler()"
   ]
  },
  {
   "cell_type": "code",
   "execution_count": 11,
   "id": "4d57c711-e15e-4c79-af38-1048882a4489",
   "metadata": {},
   "outputs": [],
   "source": [
    "X_train = scaler.fit_transform(X_train)"
   ]
  },
  {
   "cell_type": "code",
   "execution_count": 12,
   "id": "fe00300f-7935-473c-8302-9bf330b6f6c2",
   "metadata": {},
   "outputs": [],
   "source": [
    "X_test = scaler.transform(X_test)"
   ]
  },
  {
   "cell_type": "code",
   "execution_count": 16,
   "id": "3bedab76-3a55-40ce-bfc4-5e08d78823e0",
   "metadata": {},
   "outputs": [],
   "source": [
    "from sklearn.svm import SVC,LinearSVC"
   ]
  },
  {
   "cell_type": "code",
   "execution_count": 17,
   "id": "80296b51-5ccf-4828-8e18-27cbb8b0f4c8",
   "metadata": {},
   "outputs": [],
   "source": [
    "model = SVC()"
   ]
  },
  {
   "cell_type": "code",
   "execution_count": null,
   "id": "891854f1-0d78-4d77-b618-5f1afa71b46e",
   "metadata": {},
   "outputs": [],
   "source": []
  }
 ],
 "metadata": {
  "kernelspec": {
   "display_name": "Python 3 (ipykernel)",
   "language": "python",
   "name": "python3"
  },
  "language_info": {
   "codemirror_mode": {
    "name": "ipython",
    "version": 3
   },
   "file_extension": ".py",
   "mimetype": "text/x-python",
   "name": "python",
   "nbconvert_exporter": "python",
   "pygments_lexer": "ipython3",
   "version": "3.9.20"
  }
 },
 "nbformat": 4,
 "nbformat_minor": 5
}
