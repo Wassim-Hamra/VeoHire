{
 "cells": [
  {
   "cell_type": "code",
   "execution_count": 1,
   "id": "ab7b402f-8799-48b6-b291-4244811146e5",
   "metadata": {},
   "outputs": [],
   "source": [
    "#imput & output :"
   ]
  },
  {
   "cell_type": "code",
   "execution_count": 3,
   "id": "7d6acbde-1dd1-48b7-a589-15cd1332f185",
   "metadata": {},
   "outputs": [],
   "source": [
    "# CSV FILES :"
   ]
  },
  {
   "cell_type": "code",
   "execution_count": 4,
   "id": "8bd9e5f8-76a3-4a8c-9b23-dc2c8f22504a",
   "metadata": {},
   "outputs": [],
   "source": [
    "import pandas as pd"
   ]
  },
  {
   "cell_type": "code",
   "execution_count": 5,
   "id": "9d9707f9-9ced-499c-bd67-17401fee1ea1",
   "metadata": {},
   "outputs": [
    {
     "data": {
      "text/plain": [
       "'C:\\\\Users\\\\lenovo\\\\Desktop\\\\MY_notebooks'"
      ]
     },
     "execution_count": 5,
     "metadata": {},
     "output_type": "execute_result"
    }
   ],
   "source": [
    "pwd\n"
   ]
  },
  {
   "cell_type": "code",
   "execution_count": 7,
   "id": "4ed1c1b3-afb6-4b53-aec4-d6aad51fd08e",
   "metadata": {},
   "outputs": [
    {
     "name": "stdout",
     "output_type": "stream",
     "text": [
      " Volume in drive C is Windows-SSD\n",
      " Volume Serial Number is 4652-BE78\n",
      "\n",
      " Directory of C:\\Users\\lenovo\\Desktop\\MY_notebooks\n",
      "\n",
      "12/14/2024  10:51 AM    <DIR>          .\n",
      "12/11/2024  01:53 PM    <DIR>          ..\n",
      "12/14/2024  10:51 AM    <DIR>          .ipynb_checkpoints\n",
      "12/12/2024  07:44 PM            49,446 Combining_Data_Frame.ipynb\n",
      "12/13/2024  09:02 PM            11,581 Date_time_methods.ipynb\n",
      "12/11/2024  01:49 PM           356,306 GroupBy op.ipynb\n",
      "12/14/2024  10:22 AM             1,569 INPUT_OUPUT.ipynb\n",
      "12/06/2024  10:53 AM            38,270 Missing_Date.ipynb\n",
      "12/04/2024  03:37 PM            42,090 Numpy.ipynb\n",
      "12/05/2024  06:08 PM            43,587 Pandas_Conditional_Filtering.ipynb\n",
      "12/04/2024  08:41 PM           183,831 pandas_DataFrame.ipynb\n",
      "12/04/2024  04:24 PM            10,396 Pandas_series.ipynb\n",
      "12/13/2024  01:32 PM            11,373 Text_method_of_string_Data.ipynb\n",
      "12/05/2024  11:20 PM           114,850 Useful_Methods.ipynb\n",
      "              11 File(s)        863,299 bytes\n",
      "               3 Dir(s)  100,313,919,488 bytes free\n"
     ]
    }
   ],
   "source": [
    "ls"
   ]
  },
  {
   "cell_type": "code",
   "execution_count": 8,
   "id": "a331f4a5-97ae-41df-8582-0af50aab5baf",
   "metadata": {},
   "outputs": [],
   "source": [
    "#if yoyr not using jupyter you can use the OS module :"
   ]
  },
  {
   "cell_type": "code",
   "execution_count": 9,
   "id": "db613553-2ed8-4c99-97c7-76e1f7080ff9",
   "metadata": {},
   "outputs": [],
   "source": [
    "import os"
   ]
  },
  {
   "cell_type": "code",
   "execution_count": 10,
   "id": "e474d796-3704-4c54-9454-145d5e832e8c",
   "metadata": {},
   "outputs": [
    {
     "data": {
      "text/plain": [
       "'C:\\\\Users\\\\lenovo\\\\Desktop\\\\MY_notebooks'"
      ]
     },
     "execution_count": 10,
     "metadata": {},
     "output_type": "execute_result"
    }
   ],
   "source": [
    "os.getcwd()"
   ]
  },
  {
   "cell_type": "code",
   "execution_count": 11,
   "id": "f6201ebc-6a8b-4201-aa5e-80076c0013b1",
   "metadata": {},
   "outputs": [],
   "source": [
    "#to write in a csv file :"
   ]
  },
  {
   "cell_type": "code",
   "execution_count": 12,
   "id": "6729c852-102b-4ee2-9300-30a7ced5a790",
   "metadata": {},
   "outputs": [],
   "source": [
    "#df = pd.to_csv('file_name',index = False)"
   ]
  },
  {
   "cell_type": "code",
   "execution_count": 13,
   "id": "e7720d4c-b004-4489-ba62-207f0fe88886",
   "metadata": {},
   "outputs": [],
   "source": [
    "#EXCEL:"
   ]
  },
  {
   "cell_type": "code",
   "execution_count": 17,
   "id": "a9f370bb-ace1-407b-b248-c4d2d1c950af",
   "metadata": {},
   "outputs": [],
   "source": [
    "df = pd.read_excel(r'C:\\Users\\lenovo\\Desktop\\Notebooks\\03-Pandas\\my_excel_file.xlsx',sheet_name='First_Sheet')"
   ]
  },
  {
   "cell_type": "code",
   "execution_count": 18,
   "id": "4c8571f3-b63f-4372-816b-c4d73d730f52",
   "metadata": {},
   "outputs": [
    {
     "data": {
      "text/html": [
       "<div>\n",
       "<style scoped>\n",
       "    .dataframe tbody tr th:only-of-type {\n",
       "        vertical-align: middle;\n",
       "    }\n",
       "\n",
       "    .dataframe tbody tr th {\n",
       "        vertical-align: top;\n",
       "    }\n",
       "\n",
       "    .dataframe thead th {\n",
       "        text-align: right;\n",
       "    }\n",
       "</style>\n",
       "<table border=\"1\" class=\"dataframe\">\n",
       "  <thead>\n",
       "    <tr style=\"text-align: right;\">\n",
       "      <th></th>\n",
       "      <th>a</th>\n",
       "      <th>b</th>\n",
       "      <th>c</th>\n",
       "      <th>d</th>\n",
       "    </tr>\n",
       "  </thead>\n",
       "  <tbody>\n",
       "    <tr>\n",
       "      <th>0</th>\n",
       "      <td>0</td>\n",
       "      <td>1</td>\n",
       "      <td>2</td>\n",
       "      <td>3</td>\n",
       "    </tr>\n",
       "    <tr>\n",
       "      <th>1</th>\n",
       "      <td>4</td>\n",
       "      <td>5</td>\n",
       "      <td>6</td>\n",
       "      <td>7</td>\n",
       "    </tr>\n",
       "    <tr>\n",
       "      <th>2</th>\n",
       "      <td>8</td>\n",
       "      <td>9</td>\n",
       "      <td>10</td>\n",
       "      <td>11</td>\n",
       "    </tr>\n",
       "    <tr>\n",
       "      <th>3</th>\n",
       "      <td>12</td>\n",
       "      <td>13</td>\n",
       "      <td>14</td>\n",
       "      <td>15</td>\n",
       "    </tr>\n",
       "  </tbody>\n",
       "</table>\n",
       "</div>"
      ],
      "text/plain": [
       "    a   b   c   d\n",
       "0   0   1   2   3\n",
       "1   4   5   6   7\n",
       "2   8   9  10  11\n",
       "3  12  13  14  15"
      ]
     },
     "execution_count": 18,
     "metadata": {},
     "output_type": "execute_result"
    }
   ],
   "source": [
    "df"
   ]
  },
  {
   "cell_type": "code",
   "execution_count": 19,
   "id": "3968800c-fc8a-43aa-a300-bbd7c350652a",
   "metadata": {},
   "outputs": [],
   "source": [
    "#if you don't know all the sheet names you can do that :"
   ]
  },
  {
   "cell_type": "code",
   "execution_count": 20,
   "id": "e0dff2cc-5906-434d-9fdd-fdfaf3bd67f3",
   "metadata": {},
   "outputs": [],
   "source": [
    "wb = pd.ExcelFile(r'C:\\Users\\lenovo\\Desktop\\Notebooks\\03-Pandas\\my_excel_file.xlsx')"
   ]
  },
  {
   "cell_type": "code",
   "execution_count": 26,
   "id": "ee73b362-3049-4c14-b2ee-2eba18a2752e",
   "metadata": {},
   "outputs": [
    {
     "data": {
      "text/plain": [
       "['First_Sheet']"
      ]
     },
     "execution_count": 26,
     "metadata": {},
     "output_type": "execute_result"
    }
   ],
   "source": [
    "wb.sheet_names"
   ]
  },
  {
   "cell_type": "code",
   "execution_count": 22,
   "id": "deb7920d-27b8-42a2-9684-d5a16e323677",
   "metadata": {},
   "outputs": [],
   "source": [
    "excel_dict = df = pd.read_excel(r'C:\\Users\\lenovo\\Desktop\\Notebooks\\03-Pandas\\my_excel_file.xlsx',sheet_name=None)"
   ]
  },
  {
   "cell_type": "code",
   "execution_count": 23,
   "id": "ab737545-1fc2-4eb9-9cc3-08e89724ff1a",
   "metadata": {},
   "outputs": [
    {
     "data": {
      "text/plain": [
       "dict"
      ]
     },
     "execution_count": 23,
     "metadata": {},
     "output_type": "execute_result"
    }
   ],
   "source": [
    "type(excel_dict)"
   ]
  },
  {
   "cell_type": "code",
   "execution_count": 29,
   "id": "656240f9-d773-464e-9a11-09a72744ffcb",
   "metadata": {},
   "outputs": [
    {
     "data": {
      "text/plain": [
       "dict_keys(['First_Sheet'])"
      ]
     },
     "execution_count": 29,
     "metadata": {},
     "output_type": "execute_result"
    }
   ],
   "source": [
    "excel_dict.keys()"
   ]
  },
  {
   "cell_type": "code",
   "execution_count": 28,
   "id": "6c58e099-3a22-4acc-8e0f-a55412ac42b5",
   "metadata": {},
   "outputs": [
    {
     "data": {
      "text/plain": [
       "dict_values([    a   b   c   d\n",
       "0   0   1   2   3\n",
       "1   4   5   6   7\n",
       "2   8   9  10  11\n",
       "3  12  13  14  15])"
      ]
     },
     "execution_count": 28,
     "metadata": {},
     "output_type": "execute_result"
    }
   ],
   "source": [
    "excel_dict.values()"
   ]
  },
  {
   "cell_type": "code",
   "execution_count": 30,
   "id": "0a2544d9-2ccd-4864-b915-97fc774565bf",
   "metadata": {},
   "outputs": [],
   "source": [
    "#to write in an excel file you can do  :"
   ]
  },
  {
   "cell_type": "code",
   "execution_count": 31,
   "id": "366b2a73-3eac-4d1b-afd6-fdaa10245b5a",
   "metadata": {},
   "outputs": [],
   "source": [
    "#df.to_excel('filel_name',sheet_names = 'your sheet name',index = False)"
   ]
  },
  {
   "cell_type": "code",
   "execution_count": 32,
   "id": "9bf6e848-979a-4179-be18-db93d64c8be0",
   "metadata": {},
   "outputs": [],
   "source": [
    "#SQL :"
   ]
  },
  {
   "cell_type": "code",
   "execution_count": 33,
   "id": "52afad33-6b4f-4e29-8165-aadd55a84871",
   "metadata": {},
   "outputs": [],
   "source": [
    "#to read from an sql engine you should first :\n",
    "#1/know wich sql engine y'r working on\n",
    "#2/install the appropriate python driver library\n",
    "#3/use the SQLQLCHEMY librzry to connect to your sql database with the driver "
   ]
  },
  {
   "cell_type": "code",
   "execution_count": 34,
   "id": "6f581c67-ce95-426f-aef0-b278e2ac38b6",
   "metadata": {},
   "outputs": [],
   "source": [
    "#now w'r gonna create a sql database in the RAM :"
   ]
  },
  {
   "cell_type": "code",
   "execution_count": 35,
   "id": "e467cf1f-c72a-468e-b40c-11bfe8971925",
   "metadata": {},
   "outputs": [],
   "source": [
    "from sqlalchemy import create_engine"
   ]
  },
  {
   "cell_type": "code",
   "execution_count": 36,
   "id": "1337b8e3-1cdc-45fa-ba1b-24114157b1c7",
   "metadata": {},
   "outputs": [],
   "source": [
    "tem_db = create_engine('sqlite:///:memory')"
   ]
  },
  {
   "cell_type": "code",
   "execution_count": 41,
   "id": "762d11e2-be6a-4612-ad25-c81795cd67da",
   "metadata": {},
   "outputs": [],
   "source": [
    "import numpy as np\n",
    "df = pd.DataFrame(data = np.random.randint(0,25,(5,5)))"
   ]
  },
  {
   "cell_type": "code",
   "execution_count": 42,
   "id": "23e66fda-f171-4d04-a513-24e33baee4d3",
   "metadata": {},
   "outputs": [
    {
     "data": {
      "text/html": [
       "<div>\n",
       "<style scoped>\n",
       "    .dataframe tbody tr th:only-of-type {\n",
       "        vertical-align: middle;\n",
       "    }\n",
       "\n",
       "    .dataframe tbody tr th {\n",
       "        vertical-align: top;\n",
       "    }\n",
       "\n",
       "    .dataframe thead th {\n",
       "        text-align: right;\n",
       "    }\n",
       "</style>\n",
       "<table border=\"1\" class=\"dataframe\">\n",
       "  <thead>\n",
       "    <tr style=\"text-align: right;\">\n",
       "      <th></th>\n",
       "      <th>0</th>\n",
       "      <th>1</th>\n",
       "      <th>2</th>\n",
       "      <th>3</th>\n",
       "      <th>4</th>\n",
       "    </tr>\n",
       "  </thead>\n",
       "  <tbody>\n",
       "    <tr>\n",
       "      <th>0</th>\n",
       "      <td>3</td>\n",
       "      <td>11</td>\n",
       "      <td>12</td>\n",
       "      <td>21</td>\n",
       "      <td>0</td>\n",
       "    </tr>\n",
       "    <tr>\n",
       "      <th>1</th>\n",
       "      <td>1</td>\n",
       "      <td>19</td>\n",
       "      <td>23</td>\n",
       "      <td>4</td>\n",
       "      <td>18</td>\n",
       "    </tr>\n",
       "    <tr>\n",
       "      <th>2</th>\n",
       "      <td>3</td>\n",
       "      <td>22</td>\n",
       "      <td>13</td>\n",
       "      <td>6</td>\n",
       "      <td>15</td>\n",
       "    </tr>\n",
       "    <tr>\n",
       "      <th>3</th>\n",
       "      <td>13</td>\n",
       "      <td>11</td>\n",
       "      <td>6</td>\n",
       "      <td>20</td>\n",
       "      <td>9</td>\n",
       "    </tr>\n",
       "    <tr>\n",
       "      <th>4</th>\n",
       "      <td>16</td>\n",
       "      <td>15</td>\n",
       "      <td>6</td>\n",
       "      <td>22</td>\n",
       "      <td>5</td>\n",
       "    </tr>\n",
       "  </tbody>\n",
       "</table>\n",
       "</div>"
      ],
      "text/plain": [
       "    0   1   2   3   4\n",
       "0   3  11  12  21   0\n",
       "1   1  19  23   4  18\n",
       "2   3  22  13   6  15\n",
       "3  13  11   6  20   9\n",
       "4  16  15   6  22   5"
      ]
     },
     "execution_count": 42,
     "metadata": {},
     "output_type": "execute_result"
    }
   ],
   "source": [
    "df"
   ]
  }
 ],
 "metadata": {
  "kernelspec": {
   "display_name": "Python 3 (ipykernel)",
   "language": "python",
   "name": "python3"
  },
  "language_info": {
   "codemirror_mode": {
    "name": "ipython",
    "version": 3
   },
   "file_extension": ".py",
   "mimetype": "text/x-python",
   "name": "python",
   "nbconvert_exporter": "python",
   "pygments_lexer": "ipython3",
   "version": "3.9.20"
  }
 },
 "nbformat": 4,
 "nbformat_minor": 5
}
