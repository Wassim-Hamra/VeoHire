{
 "cells": [
  {
   "cell_type": "code",
   "execution_count": 1,
   "id": "4fd6ec27-64f0-45e5-b522-9cc21f08ac1e",
   "metadata": {},
   "outputs": [],
   "source": [
    "import numpy as np\n",
    "import pandas as pd"
   ]
  },
  {
   "cell_type": "code",
   "execution_count": 2,
   "id": "0c78da3a-0a58-401b-bc1a-39bfd9756e47",
   "metadata": {},
   "outputs": [],
   "source": [
    "name = 'ali@gmail.com'"
   ]
  },
  {
   "cell_type": "code",
   "execution_count": 3,
   "id": "fe1e66f9-8e2b-439c-8687-80e6f6253e74",
   "metadata": {},
   "outputs": [
    {
     "data": {
      "text/plain": [
       "['ali', 'gmail.com']"
      ]
     },
     "execution_count": 3,
     "metadata": {},
     "output_type": "execute_result"
    }
   ],
   "source": [
    "name.split('@')"
   ]
  },
  {
   "cell_type": "code",
   "execution_count": 4,
   "id": "1665ebdb-197a-48aa-abec-f0950df1ab9a",
   "metadata": {},
   "outputs": [],
   "source": [
    "names = pd.Series(['othman','mohamed','ali','5'])"
   ]
  },
  {
   "cell_type": "code",
   "execution_count": 6,
   "id": "2db7ae53-87b9-494c-9ba7-4c26e63636cf",
   "metadata": {},
   "outputs": [
    {
     "data": {
      "text/plain": [
       "0     othman\n",
       "1    mohamed\n",
       "2        ali\n",
       "3          5\n",
       "dtype: object"
      ]
     },
     "execution_count": 6,
     "metadata": {},
     "output_type": "execute_result"
    }
   ],
   "source": [
    "names"
   ]
  },
  {
   "cell_type": "code",
   "execution_count": 7,
   "id": "a74615f5-3572-4ed7-a32b-ace034ffeb4b",
   "metadata": {},
   "outputs": [
    {
     "data": {
      "text/plain": [
       "0     OTHMAN\n",
       "1    MOHAMED\n",
       "2        ALI\n",
       "3          5\n",
       "dtype: object"
      ]
     },
     "execution_count": 7,
     "metadata": {},
     "output_type": "execute_result"
    }
   ],
   "source": [
    "names.str.upper()"
   ]
  },
  {
   "cell_type": "code",
   "execution_count": 8,
   "id": "eff80788-7ceb-4bf5-9d64-f22ef155c4fa",
   "metadata": {},
   "outputs": [
    {
     "data": {
      "text/plain": [
       "0     othman\n",
       "1    mohamed\n",
       "2        ali\n",
       "3          5\n",
       "dtype: object"
      ]
     },
     "execution_count": 8,
     "metadata": {},
     "output_type": "execute_result"
    }
   ],
   "source": [
    "names"
   ]
  },
  {
   "cell_type": "code",
   "execution_count": 9,
   "id": "2f76edeb-644f-4acd-8a1e-c6bd624dff1c",
   "metadata": {},
   "outputs": [
    {
     "data": {
      "text/plain": [
       "False"
      ]
     },
     "execution_count": 9,
     "metadata": {},
     "output_type": "execute_result"
    }
   ],
   "source": [
    "name.isdigit()"
   ]
  },
  {
   "cell_type": "code",
   "execution_count": 10,
   "id": "58e0f61c-3bb5-4fa7-ba0e-6f5e2f5a7123",
   "metadata": {},
   "outputs": [
    {
     "data": {
      "text/plain": [
       "True"
      ]
     },
     "execution_count": 10,
     "metadata": {},
     "output_type": "execute_result"
    }
   ],
   "source": [
    "'1215'.isdigit()"
   ]
  },
  {
   "cell_type": "code",
   "execution_count": 11,
   "id": "3094bb59-bc03-46d1-8018-c7be36baf74d",
   "metadata": {},
   "outputs": [
    {
     "data": {
      "text/plain": [
       "0    False\n",
       "1    False\n",
       "2    False\n",
       "3     True\n",
       "dtype: bool"
      ]
     },
     "execution_count": 11,
     "metadata": {},
     "output_type": "execute_result"
    }
   ],
   "source": [
    "names.str.isdigit()"
   ]
  },
  {
   "cell_type": "code",
   "execution_count": 12,
   "id": "d53b1fd9-72f3-4ec3-89a0-9361c330ab6e",
   "metadata": {},
   "outputs": [],
   "source": [
    "tech_finance = ['GOOG,APPL,AMZN','BAN,GS,JPM']"
   ]
  },
  {
   "cell_type": "code",
   "execution_count": 13,
   "id": "2ecea11b-911e-404f-ad78-4ed2bf803394",
   "metadata": {},
   "outputs": [
    {
     "data": {
      "text/plain": [
       "2"
      ]
     },
     "execution_count": 13,
     "metadata": {},
     "output_type": "execute_result"
    }
   ],
   "source": [
    "len(tech_finance)"
   ]
  },
  {
   "cell_type": "code",
   "execution_count": 14,
   "id": "b502bd5b-77d3-40c2-8f88-6247e9a5082a",
   "metadata": {},
   "outputs": [],
   "source": [
    "tickers = pd.Series(tech_finance)"
   ]
  },
  {
   "cell_type": "code",
   "execution_count": 15,
   "id": "cd9a7fe4-41f8-46e7-8c61-e3fc04ff4d0d",
   "metadata": {},
   "outputs": [
    {
     "data": {
      "text/plain": [
       "0    GOOG,APPL,AMZN\n",
       "1        BAN,GS,JPM\n",
       "dtype: object"
      ]
     },
     "execution_count": 15,
     "metadata": {},
     "output_type": "execute_result"
    }
   ],
   "source": [
    "tickers"
   ]
  },
  {
   "cell_type": "code",
   "execution_count": 24,
   "id": "63f1b058-2522-4c98-a94b-3bb58b80ac3c",
   "metadata": {},
   "outputs": [],
   "source": [
    "test = tickers.str.split(',')"
   ]
  },
  {
   "cell_type": "code",
   "execution_count": 25,
   "id": "7d6c84eb-47bc-4ab1-ab04-94f19ec9a1dc",
   "metadata": {},
   "outputs": [
    {
     "data": {
      "text/plain": [
       "'GOOG'"
      ]
     },
     "execution_count": 25,
     "metadata": {},
     "output_type": "execute_result"
    }
   ],
   "source": [
    "test[0][0]"
   ]
  },
  {
   "cell_type": "code",
   "execution_count": 26,
   "id": "c9e25c9d-ab0c-4971-81b4-4e55a770b7c8",
   "metadata": {},
   "outputs": [
    {
     "data": {
      "text/plain": [
       "'BAN'"
      ]
     },
     "execution_count": 26,
     "metadata": {},
     "output_type": "execute_result"
    }
   ],
   "source": [
    "test[1][0]"
   ]
  },
  {
   "cell_type": "code",
   "execution_count": 27,
   "id": "a3aacff9-7932-43de-b3f5-5c4236748fc6",
   "metadata": {},
   "outputs": [],
   "source": [
    "#now we wanna expande the values into columns so :"
   ]
  },
  {
   "cell_type": "code",
   "execution_count": 28,
   "id": "32d98c10-c5dc-4e07-a78a-514f30110919",
   "metadata": {},
   "outputs": [],
   "source": [
    "test = tickers.str.split(',',expand=True)"
   ]
  },
  {
   "cell_type": "code",
   "execution_count": 29,
   "id": "1a4db3cd-17d1-4df2-ac70-ae3489e161e0",
   "metadata": {},
   "outputs": [
    {
     "data": {
      "text/html": [
       "<div>\n",
       "<style scoped>\n",
       "    .dataframe tbody tr th:only-of-type {\n",
       "        vertical-align: middle;\n",
       "    }\n",
       "\n",
       "    .dataframe tbody tr th {\n",
       "        vertical-align: top;\n",
       "    }\n",
       "\n",
       "    .dataframe thead th {\n",
       "        text-align: right;\n",
       "    }\n",
       "</style>\n",
       "<table border=\"1\" class=\"dataframe\">\n",
       "  <thead>\n",
       "    <tr style=\"text-align: right;\">\n",
       "      <th></th>\n",
       "      <th>0</th>\n",
       "      <th>1</th>\n",
       "      <th>2</th>\n",
       "    </tr>\n",
       "  </thead>\n",
       "  <tbody>\n",
       "    <tr>\n",
       "      <th>0</th>\n",
       "      <td>GOOG</td>\n",
       "      <td>APPL</td>\n",
       "      <td>AMZN</td>\n",
       "    </tr>\n",
       "    <tr>\n",
       "      <th>1</th>\n",
       "      <td>BAN</td>\n",
       "      <td>GS</td>\n",
       "      <td>JPM</td>\n",
       "    </tr>\n",
       "  </tbody>\n",
       "</table>\n",
       "</div>"
      ],
      "text/plain": [
       "      0     1     2\n",
       "0  GOOG  APPL  AMZN\n",
       "1   BAN    GS   JPM"
      ]
     },
     "execution_count": 29,
     "metadata": {},
     "output_type": "execute_result"
    }
   ],
   "source": [
    "test"
   ]
  },
  {
   "cell_type": "code",
   "execution_count": 32,
   "id": "b777f8c2-de5f-470f-b02c-0c8cf21402be",
   "metadata": {},
   "outputs": [],
   "source": [
    "messy_names = pd.Series(['andrew   ','bo;bo','   claire   '])"
   ]
  },
  {
   "cell_type": "code",
   "execution_count": 33,
   "id": "3e53b538-b2f7-47ea-95f1-09367b37fc4b",
   "metadata": {},
   "outputs": [
    {
     "data": {
      "text/plain": [
       "0        andrew  \n",
       "1           bo;bo\n",
       "2       claire   \n",
       "dtype: object"
      ]
     },
     "execution_count": 33,
     "metadata": {},
     "output_type": "execute_result"
    }
   ],
   "source": [
    "messy_names"
   ]
  },
  {
   "cell_type": "code",
   "execution_count": 34,
   "id": "96fc037f-0f28-4b31-ab4b-cd523d12f8cb",
   "metadata": {},
   "outputs": [
    {
     "data": {
      "text/plain": [
       "'andrew  '"
      ]
     },
     "execution_count": 34,
     "metadata": {},
     "output_type": "execute_result"
    }
   ],
   "source": [
    "messy_names[0]"
   ]
  },
  {
   "cell_type": "code",
   "execution_count": 41,
   "id": "b408c04d-0a45-464b-b557-43667344f472",
   "metadata": {},
   "outputs": [
    {
     "data": {
      "text/plain": [
       "0        andrew  \n",
       "1            bobo\n",
       "2       claire   \n",
       "dtype: object"
      ]
     },
     "execution_count": 41,
     "metadata": {},
     "output_type": "execute_result"
    }
   ],
   "source": [
    "#remove the ';' :\n",
    "messy_names.str.replace(';','')"
   ]
  },
  {
   "cell_type": "code",
   "execution_count": 42,
   "id": "552cd021-fd6b-4a98-b562-8722d0e3cb93",
   "metadata": {},
   "outputs": [],
   "source": [
    "#to remove white spaces :"
   ]
  },
  {
   "cell_type": "code",
   "execution_count": 44,
   "id": "848bd034-87f2-4ff4-8395-99fe218e2c0a",
   "metadata": {},
   "outputs": [
    {
     "data": {
      "text/plain": [
       "0        andrew  \n",
       "1           bo;bo\n",
       "2       claire   \n",
       "dtype: object"
      ]
     },
     "execution_count": 44,
     "metadata": {},
     "output_type": "execute_result"
    }
   ],
   "source": [
    "messy_names"
   ]
  },
  {
   "cell_type": "code",
   "execution_count": 47,
   "id": "a45ecb37-89ce-49a7-b9a2-337f7ad64e07",
   "metadata": {},
   "outputs": [
    {
     "data": {
      "text/plain": [
       "0    andrew\n",
       "1     bo;bo\n",
       "2    claire\n",
       "dtype: object"
      ]
     },
     "execution_count": 47,
     "metadata": {},
     "output_type": "execute_result"
    }
   ],
   "source": [
    "messy_names.str.strip()"
   ]
  },
  {
   "cell_type": "code",
   "execution_count": 50,
   "id": "b42fde3f-402b-4a0a-bd35-6ef877d972d8",
   "metadata": {},
   "outputs": [
    {
     "data": {
      "text/plain": [
       "0    Andrew\n",
       "1      Bobo\n",
       "2    Claire\n",
       "dtype: object"
      ]
     },
     "execution_count": 50,
     "metadata": {},
     "output_type": "execute_result"
    }
   ],
   "source": [
    "messy_names.str.replace(';','').str.strip().str.capitalize()"
   ]
  },
  {
   "cell_type": "code",
   "execution_count": null,
   "id": "970c28c6-5556-42c9-85ef-bf4068366039",
   "metadata": {},
   "outputs": [],
   "source": []
  }
 ],
 "metadata": {
  "kernelspec": {
   "display_name": "Python 3 (ipykernel)",
   "language": "python",
   "name": "python3"
  },
  "language_info": {
   "codemirror_mode": {
    "name": "ipython",
    "version": 3
   },
   "file_extension": ".py",
   "mimetype": "text/x-python",
   "name": "python",
   "nbconvert_exporter": "python",
   "pygments_lexer": "ipython3",
   "version": "3.9.20"
  }
 },
 "nbformat": 4,
 "nbformat_minor": 5
}
